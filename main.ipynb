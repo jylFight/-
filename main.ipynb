{
 "cells": [
  {
   "cell_type": "code",
   "execution_count": 1,
   "id": "5146928a",
   "metadata": {},
   "outputs": [
    {
     "name": "stderr",
     "output_type": "stream",
     "text": [
      "/home/jiaoyilin/anaconda3/envs/test/lib/python3.8/site-packages/tqdm/auto.py:21: TqdmWarning: IProgress not found. Please update jupyter and ipywidgets. See https://ipywidgets.readthedocs.io/en/stable/user_install.html\n",
      "  from .autonotebook import tqdm as notebook_tqdm\n"
     ]
    }
   ],
   "source": [
    "%run multitype_model.ipynb\n",
    "%run data_dealing.ipynb\n",
    "%run train.ipynb\n",
    "#上面这俩等训练时候在用，现在用不上\n",
    "from transformers import AutoConfig, AutoModel\n",
    "#读取ipynb文件，里面最好只有类和函数\n",
    "import warnings\n",
    "import random\n",
    "warnings.filterwarnings(\"ignore\")    #去掉warning提示"
   ]
  },
  {
   "cell_type": "code",
   "execution_count": 2,
   "id": "5c77086a-9c98-48d2-9bc4-2b87cc24ab9f",
   "metadata": {},
   "outputs": [],
   "source": [
    "torch.cuda.set_device(1)"
   ]
  },
  {
   "cell_type": "markdown",
   "id": "9cef6e70-ca38-4f5e-82e6-750b5aabf0f9",
   "metadata": {},
   "source": [
    "liuyan_data=data_deal_liuyan('new投诉数据(1000条).xlsx')   #最长的投诉还不到1000个字，就这！？\n",
    "random.shuffle(liuyan_data)\n",
    "train_feature=liuyan_data[:800]\n",
    "dev_feature=liuyan_data[800:900]\n",
    "test_feature=liuyan_data[900:]"
   ]
  },
  {
   "cell_type": "code",
   "execution_count": 3,
   "id": "846e22c0-e784-44d8-815c-61c24646d3ae",
   "metadata": {},
   "outputs": [
    {
     "name": "stderr",
     "output_type": "stream",
     "text": [
      "'(MaxRetryError(\"HTTPSConnectionPool(host='huggingface.co', port=443): Max retries exceeded with url: /IDEA-CCNL/Erlangshen-DeBERTa-v2-97M-Chinese/resolve/main/tokenizer_config.json (Caused by ConnectTimeoutError(<urllib3.connection.HTTPSConnection object at 0x7f4ac0197280>, 'Connection to huggingface.co timed out. (connect timeout=10)'))\"), '(Request ID: e7d24be7-8718-4dad-8497-54a4281ea69d)')' thrown while requesting HEAD https://huggingface.co/IDEA-CCNL/Erlangshen-DeBERTa-v2-97M-Chinese/resolve/main/tokenizer_config.json\n"
     ]
    },
    {
     "name": "stdout",
     "output_type": "stream",
     "text": [
      "800 100 100\n"
     ]
    }
   ],
   "source": [
    "data = data_dealing('政府回应编码（1000条）.xlsx')   \n",
    "random.shuffle(data)    #打乱数据以方便划分\n",
    "train_feature = data[:800]\n",
    "dev_feature = data[800:900]\n",
    "test_feature = data[900:]\n",
    "print(len(train_feature),len(dev_feature),len(test_feature))"
   ]
  },
  {
   "cell_type": "code",
   "execution_count": 4,
   "id": "0aeb8c22",
   "metadata": {
    "scrolled": true
   },
   "outputs": [
    {
     "name": "stderr",
     "output_type": "stream",
     "text": [
      "'(MaxRetryError(\"HTTPSConnectionPool(host='huggingface.co', port=443): Max retries exceeded with url: /IDEA-CCNL/Erlangshen-DeBERTa-v2-97M-Chinese/resolve/main/config.json (Caused by ConnectTimeoutError(<urllib3.connection.HTTPSConnection object at 0x7f4ac018e2b0>, 'Connection to huggingface.co timed out. (connect timeout=10)'))\"), '(Request ID: 27113e36-c74c-47c4-a59c-f2ef54bf4d10)')' thrown while requesting HEAD https://huggingface.co/IDEA-CCNL/Erlangshen-DeBERTa-v2-97M-Chinese/resolve/main/config.json\n",
      "'(MaxRetryError(\"HTTPSConnectionPool(host='huggingface.co', port=443): Max retries exceeded with url: /IDEA-CCNL/Erlangshen-DeBERTa-v2-97M-Chinese/resolve/main/config.json (Caused by ConnectTimeoutError(<urllib3.connection.HTTPSConnection object at 0x7f4ac018e580>, 'Connection to huggingface.co timed out. (connect timeout=10)'))\"), '(Request ID: bb61914c-28f1-4ff9-ba11-6ca3f2851381)')' thrown while requesting HEAD https://huggingface.co/IDEA-CCNL/Erlangshen-DeBERTa-v2-97M-Chinese/resolve/main/config.json\n",
      "'(MaxRetryError(\"HTTPSConnectionPool(host='huggingface.co', port=443): Max retries exceeded with url: /IDEA-CCNL/Erlangshen-DeBERTa-v2-97M-Chinese/resolve/main/model.safetensors.index.json (Caused by ConnectTimeoutError(<urllib3.connection.HTTPSConnection object at 0x7f4aa00a74c0>, 'Connection to huggingface.co timed out. (connect timeout=10)'))\"), '(Request ID: 92e0fed5-1164-4e45-9d1a-9c0b7789bca8)')' thrown while requesting HEAD https://huggingface.co/IDEA-CCNL/Erlangshen-DeBERTa-v2-97M-Chinese/resolve/main/model.safetensors.index.json\n"
     ]
    },
    {
     "data": {
      "text/plain": [
       "bert_model(\n",
       "  (model): DebertaV2Model(\n",
       "    (embeddings): DebertaV2Embeddings(\n",
       "      (word_embeddings): Embedding(12800, 768, padding_idx=0)\n",
       "      (LayerNorm): LayerNorm((768,), eps=1e-07, elementwise_affine=True)\n",
       "      (dropout): StableDropout()\n",
       "    )\n",
       "    (encoder): DebertaV2Encoder(\n",
       "      (layer): ModuleList(\n",
       "        (0-11): 12 x DebertaV2Layer(\n",
       "          (attention): DebertaV2Attention(\n",
       "            (self): DisentangledSelfAttention(\n",
       "              (query_proj): Linear(in_features=768, out_features=768, bias=True)\n",
       "              (key_proj): Linear(in_features=768, out_features=768, bias=True)\n",
       "              (value_proj): Linear(in_features=768, out_features=768, bias=True)\n",
       "              (pos_dropout): StableDropout()\n",
       "              (dropout): StableDropout()\n",
       "            )\n",
       "            (output): DebertaV2SelfOutput(\n",
       "              (dense): Linear(in_features=768, out_features=768, bias=True)\n",
       "              (LayerNorm): LayerNorm((768,), eps=1e-07, elementwise_affine=True)\n",
       "              (dropout): StableDropout()\n",
       "            )\n",
       "          )\n",
       "          (intermediate): DebertaV2Intermediate(\n",
       "            (dense): Linear(in_features=768, out_features=3072, bias=True)\n",
       "            (intermediate_act_fn): GELUActivation()\n",
       "          )\n",
       "          (output): DebertaV2Output(\n",
       "            (dense): Linear(in_features=3072, out_features=768, bias=True)\n",
       "            (LayerNorm): LayerNorm((768,), eps=1e-07, elementwise_affine=True)\n",
       "            (dropout): StableDropout()\n",
       "          )\n",
       "        )\n",
       "      )\n",
       "      (rel_embeddings): Embedding(512, 768)\n",
       "      (LayerNorm): LayerNorm((768,), eps=1e-07, elementwise_affine=True)\n",
       "      (conv): ConvLayer(\n",
       "        (conv): Conv1d(768, 768, kernel_size=(3,), stride=(1,), padding=(1,))\n",
       "        (LayerNorm): LayerNorm((768,), eps=1e-07, elementwise_affine=True)\n",
       "        (dropout): StableDropout()\n",
       "      )\n",
       "    )\n",
       "  )\n",
       "  (FNN): Linear(in_features=768, out_features=3, bias=True)\n",
       "  (dropout): Dropout(p=0.1, inplace=False)\n",
       "  (loss): CrossEntropyLoss()\n",
       ")"
      ]
     },
     "execution_count": 4,
     "metadata": {},
     "output_type": "execute_result"
    }
   ],
   "source": [
    "model_config = AutoConfig.from_pretrained('IDEA-CCNL/Erlangshen-DeBERTa-v2-97M-Chinese')\n",
    "model = AutoModel.from_pretrained('IDEA-CCNL/Erlangshen-DeBERTa-v2-97M-Chinese')\n",
    "\n",
    "loss = torch.nn.CrossEntropyLoss()\n",
    "my_model = bert_model(model_config,model,loss)\n",
    "#模型测试完毕，可以运行，然后就是训练了\n",
    "device = torch.device(\"cuda:1\" if torch.cuda.is_available() else \"cpu\")\n",
    "device = device \n",
    "my_model.to(device)\n",
    "#print(len(train_feature),len(dev_feature),len(test_feature))\n",
    "#get_avaliable_memory(device)\n",
    "#my_model.load_state_dict(torch.load('huifu_model.pth'))"
   ]
  },
  {
   "cell_type": "code",
   "execution_count": 5,
   "id": "98fa3982",
   "metadata": {},
   "outputs": [
    {
     "name": "stdout",
     "output_type": "stream",
     "text": [
      "已读取的数据数： 0\n",
      "已读取的数据数： 100\n",
      "已读取的数据数： 200\n",
      "已读取的数据数： 300\n",
      "已读取的数据数： 400\n",
      "已读取的数据数： 500\n",
      "已读取的数据数： 600\n",
      "已读取的数据数： 700\n",
      "第 0 轮loss为: tensor(1.0490, device='cuda:1', grad_fn=<NllLossBackward0>)\n",
      "dev数据准确率为: 0.74 数据总数: 100 判断对的数目: 74\n",
      "已读取的数据数： 0\n",
      "已读取的数据数： 100\n",
      "已读取的数据数： 200\n",
      "已读取的数据数： 300\n",
      "已读取的数据数： 400\n",
      "已读取的数据数： 500\n",
      "已读取的数据数： 600\n",
      "已读取的数据数： 700\n",
      "第 1 轮loss为: tensor(4.7665, device='cuda:1', grad_fn=<NllLossBackward0>)\n",
      "dev数据准确率为: 0.71 数据总数: 100 判断对的数目: 71\n",
      "已读取的数据数： 0\n",
      "已读取的数据数： 100\n",
      "已读取的数据数： 200\n",
      "已读取的数据数： 300\n",
      "已读取的数据数： 400\n",
      "已读取的数据数： 500\n",
      "已读取的数据数： 600\n",
      "已读取的数据数： 700\n",
      "第 2 轮loss为: tensor(0.0926, device='cuda:1', grad_fn=<NllLossBackward0>)\n",
      "dev数据准确率为: 0.76 数据总数: 100 判断对的数目: 76\n",
      "已读取的数据数： 0\n",
      "已读取的数据数： 100\n",
      "已读取的数据数： 200\n",
      "已读取的数据数： 300\n",
      "已读取的数据数： 400\n",
      "已读取的数据数： 500\n",
      "已读取的数据数： 600\n",
      "已读取的数据数： 700\n",
      "第 3 轮loss为: tensor(1.2735, device='cuda:1', grad_fn=<NllLossBackward0>)\n",
      "dev数据准确率为: 0.73 数据总数: 100 判断对的数目: 73\n",
      "已读取的数据数： 0\n",
      "已读取的数据数： 100\n",
      "已读取的数据数： 200\n",
      "已读取的数据数： 300\n",
      "已读取的数据数： 400\n",
      "已读取的数据数： 500\n",
      "已读取的数据数： 600\n",
      "已读取的数据数： 700\n",
      "第 4 轮loss为: tensor(6.4311e-05, device='cuda:1', grad_fn=<NllLossBackward0>)\n",
      "dev数据准确率为: 0.75 数据总数: 100 判断对的数目: 75\n",
      "已读取的数据数： 0\n",
      "已读取的数据数： 100\n",
      "已读取的数据数： 200\n",
      "已读取的数据数： 300\n",
      "已读取的数据数： 400\n",
      "已读取的数据数： 500\n",
      "已读取的数据数： 600\n",
      "已读取的数据数： 700\n",
      "第 5 轮loss为: tensor(1.5557e-05, device='cuda:1', grad_fn=<NllLossBackward0>)\n",
      "dev数据准确率为: 0.75 数据总数: 100 判断对的数目: 75\n",
      "已读取的数据数： 0\n",
      "已读取的数据数： 100\n",
      "已读取的数据数： 200\n",
      "已读取的数据数： 300\n",
      "已读取的数据数： 400\n",
      "已读取的数据数： 500\n",
      "已读取的数据数： 600\n",
      "已读取的数据数： 700\n",
      "第 6 轮loss为: tensor(4.7802e-05, device='cuda:1', grad_fn=<NllLossBackward0>)\n",
      "dev数据准确率为: 0.74 数据总数: 100 判断对的数目: 74\n",
      "test数据准确率为: 0.83 数据总数: 100 判断对的数目: 83\n",
      "已读取的数据数： 0\n",
      "已读取的数据数： 100\n",
      "已读取的数据数： 200\n",
      "已读取的数据数： 300\n",
      "已读取的数据数： 400\n",
      "已读取的数据数： 500\n",
      "已读取的数据数： 600\n",
      "已读取的数据数： 700\n",
      "第 0 轮loss为: tensor(3.9383, device='cuda:1', grad_fn=<NllLossBackward0>)\n",
      "dev数据准确率为: 0.68 数据总数: 100 判断对的数目: 68\n",
      "已读取的数据数： 0\n",
      "已读取的数据数： 100\n",
      "已读取的数据数： 200\n",
      "已读取的数据数： 300\n",
      "已读取的数据数： 400\n",
      "已读取的数据数： 500\n",
      "已读取的数据数： 600\n",
      "已读取的数据数： 700\n",
      "第 1 轮loss为: tensor(9.5356, device='cuda:1', grad_fn=<NllLossBackward0>)\n",
      "dev数据准确率为: 0.7 数据总数: 100 判断对的数目: 70\n",
      "已读取的数据数： 0\n",
      "已读取的数据数： 100\n",
      "已读取的数据数： 200\n",
      "已读取的数据数： 300\n",
      "已读取的数据数： 400\n",
      "已读取的数据数： 500\n",
      "已读取的数据数： 600\n",
      "已读取的数据数： 700\n",
      "第 2 轮loss为: tensor(5.8709e-05, device='cuda:1', grad_fn=<NllLossBackward0>)\n",
      "dev数据准确率为: 0.69 数据总数: 100 判断对的数目: 69\n",
      "已读取的数据数： 0\n",
      "已读取的数据数： 100\n",
      "已读取的数据数： 200\n",
      "已读取的数据数： 300\n",
      "已读取的数据数： 400\n",
      "已读取的数据数： 500\n",
      "已读取的数据数： 600\n",
      "已读取的数据数： 700\n",
      "第 3 轮loss为: tensor(5.2033e-05, device='cuda:1', grad_fn=<NllLossBackward0>)\n",
      "dev数据准确率为: 0.73 数据总数: 100 判断对的数目: 73\n",
      "已读取的数据数： 0\n",
      "已读取的数据数： 100\n",
      "已读取的数据数： 200\n",
      "已读取的数据数： 300\n",
      "已读取的数据数： 400\n",
      "已读取的数据数： 500\n",
      "已读取的数据数： 600\n",
      "已读取的数据数： 700\n",
      "第 4 轮loss为: tensor(1.6868e-05, device='cuda:1', grad_fn=<NllLossBackward0>)\n",
      "dev数据准确率为: 0.73 数据总数: 100 判断对的数目: 73\n",
      "已读取的数据数： 0\n",
      "已读取的数据数： 100\n",
      "已读取的数据数： 200\n",
      "已读取的数据数： 300\n",
      "已读取的数据数： 400\n",
      "已读取的数据数： 500\n",
      "已读取的数据数： 600\n",
      "已读取的数据数： 700\n",
      "第 5 轮loss为: tensor(5.9605e-07, device='cuda:1', grad_fn=<NllLossBackward0>)\n",
      "dev数据准确率为: 0.73 数据总数: 100 判断对的数目: 73\n",
      "已读取的数据数： 0\n",
      "已读取的数据数： 100\n",
      "已读取的数据数： 200\n",
      "已读取的数据数： 300\n",
      "已读取的数据数： 400\n",
      "已读取的数据数： 500\n",
      "已读取的数据数： 600\n",
      "已读取的数据数： 700\n",
      "第 6 轮loss为: tensor(5.0068e-06, device='cuda:1', grad_fn=<NllLossBackward0>)\n",
      "dev数据准确率为: 0.74 数据总数: 100 判断对的数目: 74\n",
      "test数据准确率为: 0.8 数据总数: 100 判断对的数目: 80\n",
      "CPU times: user 16min 16s, sys: 1min 18s, total: 17min 34s\n",
      "Wall time: 17min 36s\n"
     ]
    }
   ],
   "source": [
    "%%time\n",
    "#模型训练以及结果检查\n",
    "F1_score=[]\n",
    "for i in range(2):    #测试2次取平均结果\n",
    "    train(my_model,train_feature,dev_feature,2,7,2e-4,device)    \n",
    "    test_model =bert_model(model_config, model,loss)\n",
    "    test_model.to(device)\n",
    "    test_model.load_state_dict(torch.load('huifu_model.pth',map_location='cpu'))\n",
    "    test_F1 = evaluate(test_model, test_feature,device, \"test\")\n",
    "#训练了14轮，验证集74，测试集75，回复类型分类\n",
    "#训练了10轮，验证集87，测试集85，留言内容分类"
   ]
  },
  {
   "cell_type": "code",
   "execution_count": 8,
   "id": "9cf1c26b",
   "metadata": {},
   "outputs": [
    {
     "name": "stdout",
     "output_type": "stream",
     "text": [
      "test数据准确率为: 0.17708333333333334 数据总数: 96 判断对的数目: 17\n"
     ]
    }
   ],
   "source": [
    "#test_model =bert_model(model_config, model,loss)\n",
    "#test_model.to(device)\n",
    "my_model.load_state_dict(torch.load('huifu_model.pth',map_location='cpu'))\n",
    "test_F1 = evaluate(my_model, test_feature,device, \"test\")"
   ]
  },
  {
   "cell_type": "code",
   "execution_count": 5,
   "id": "8fe285a1",
   "metadata": {},
   "outputs": [
    {
     "data": {
      "text/plain": [
       "0.75"
      ]
     },
     "execution_count": 5,
     "metadata": {},
     "output_type": "execute_result"
    }
   ],
   "source": [
    "72/96"
   ]
  },
  {
   "cell_type": "code",
   "execution_count": null,
   "id": "92c87425",
   "metadata": {},
   "outputs": [],
   "source": []
  }
 ],
 "metadata": {
  "kernelspec": {
   "display_name": "Python [conda env:test] *",
   "language": "python",
   "name": "conda-env-test-py"
  },
  "language_info": {
   "codemirror_mode": {
    "name": "ipython",
    "version": 3
   },
   "file_extension": ".py",
   "mimetype": "text/x-python",
   "name": "python",
   "nbconvert_exporter": "python",
   "pygments_lexer": "ipython3",
   "version": "3.8.17"
  }
 },
 "nbformat": 4,
 "nbformat_minor": 5
}
