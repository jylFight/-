{
 "cells": [
  {
   "cell_type": "code",
   "execution_count": null,
   "id": "db924474",
   "metadata": {},
   "outputs": [],
   "source": [
    "import torch"
   ]
  },
  {
   "cell_type": "code",
   "execution_count": null,
   "id": "237d2ef4",
   "metadata": {},
   "outputs": [],
   "source": [
    "#思路很简单，就是用文本CLS分类，然后注意一下，这里每次进4个都会用，所以都没mask的事\n",
    "class bert_model(torch.nn.Module):\n",
    "    def __init__(self, config, model, loss):\n",
    "        super().__init__()   \n",
    "        self.config = config\n",
    "        self.model = model    \n",
    "        self.FNN = torch.nn.Linear(config.hidden_size, 1)                              #二分类\n",
    "        self.dropout = torch.nn.Dropout(0.1)\n",
    "        self.loss = loss                                                               \n",
    "        \n",
    "    def forward(self,input_id,input_mask, tags=None):\n",
    "        \n",
    "        bert_output= self.model(input_ids=input_id, attention_mask=input_mask,)   \n",
    "        CLS = bert_output[0][:,0,:]\n",
    "        logits = torch.sigmoid(self.FNN(self.dropout(CLS)))                            #结果\n",
    "        \n",
    "        if tags==None:\n",
    "            output = (logits,)\n",
    "        else:\n",
    "            new_logits = logits.view(-1,logits.shape[-1]).squeeze(1).float()\n",
    "            new_tags = tags.view(-1).float()\n",
    "            loss = self.loss(new_logits,new_tags)                                      #不需要考虑mask，因为每组数据都用上了\n",
    "            output = (logits,) + (loss,)\n",
    "        return output       "
   ]
  }
 ],
 "metadata": {
  "kernelspec": {
   "display_name": "tensorflow",
   "language": "python",
   "name": "tensorflow"
  },
  "language_info": {
   "codemirror_mode": {
    "name": "ipython",
    "version": 3
   },
   "file_extension": ".py",
   "mimetype": "text/x-python",
   "name": "python",
   "nbconvert_exporter": "python",
   "pygments_lexer": "ipython3",
   "version": "3.9.12"
  }
 },
 "nbformat": 4,
 "nbformat_minor": 5
}
